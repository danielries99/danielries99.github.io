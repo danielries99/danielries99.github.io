{
 "cells": [
  {
   "cell_type": "markdown",
   "metadata": {},
   "source": [
    "## Tiktok"
   ]
  },
  {
   "cell_type": "markdown",
   "metadata": {},
   "source": [
    "Possible endpoint to use: https://developers.tiktok.com/doc/research-api-specs-query-videos?enter_method=left_navigation\n",
    "\n",
    "Maybe not.. : https://developers.tiktok.com/products/research-api/"
   ]
  },
  {
   "cell_type": "markdown",
   "metadata": {},
   "source": [
    "Maybe instead: https://pypi.org/project/TikTokApi/3.8.0/#the-search_for_hashtags-method"
   ]
  },
  {
   "cell_type": "code",
   "execution_count": 6,
   "metadata": {},
   "outputs": [],
   "source": [
    "import requests\n",
    "from bs4 import BeautifulSoup\n",
    "\n",
    "def get_tiktok_videos(search_query):\n",
    "    url = f\"https://www.tiktok.com/search?q={search_query}\"\n",
    "    response = requests.get(url)\n",
    "    soup = BeautifulSoup(response.text, 'html.parser')\n",
    "    videos = soup.find_all('div', class_='tiktok-1dnwz1b-DivItemContainer')\n",
    "    for video in videos:\n",
    "        print(video.get_text())\n",
    "\n",
    "search_query = \"hello\"\n",
    "get_tiktok_videos(search_query)\n"
   ]
  },
  {
   "cell_type": "code",
   "execution_count": 54,
   "metadata": {},
   "outputs": [
    {
     "name": "stdout",
     "output_type": "stream",
     "text": [
      "<Task pending name='Task-17' coro=<get_tiktok_cookies_and_tokens() running at C:\\Users\\DanielRies\\AppData\\Local\\Temp\\ipykernel_11532\\3435583085.py:9>>\n"
     ]
    },
    {
     "ename": "InvalidStateError",
     "evalue": "Result is not ready.",
     "output_type": "error",
     "traceback": [
      "\u001b[1;31m---------------------------------------------------------------------------\u001b[0m",
      "\u001b[1;31mInvalidStateError\u001b[0m                         Traceback (most recent call last)",
      "Cell \u001b[1;32mIn[54], line 66\u001b[0m\n\u001b[0;32m     63\u001b[0m \u001b[38;5;28mprint\u001b[39m(tokens)\n\u001b[0;32m     65\u001b[0m \u001b[38;5;66;03m# Use the tokens retrieved earlier\u001b[39;00m\n\u001b[1;32m---> 66\u001b[0m ms_token, verify_fp \u001b[38;5;241m=\u001b[39m \u001b[43mtokens\u001b[49m\u001b[38;5;241;43m.\u001b[39;49m\u001b[43mresult\u001b[49m\u001b[43m(\u001b[49m\u001b[43m)\u001b[49m\n\u001b[0;32m     67\u001b[0m api \u001b[38;5;241m=\u001b[39m initialize_tiktok_api(ms_token, verify_fp)\n\u001b[0;32m     69\u001b[0m \u001b[38;5;66;03m# Fetch and print videos\u001b[39;00m\n",
      "File \u001b[1;32mc:\\Users\\DanielRies\\AppData\\Local\\Programs\\Python\\Python312\\Lib\\asyncio\\futures.py:200\u001b[0m, in \u001b[0;36mFuture.result\u001b[1;34m(self)\u001b[0m\n\u001b[0;32m    198\u001b[0m     \u001b[38;5;28;01mraise\u001b[39;00m exc\n\u001b[0;32m    199\u001b[0m \u001b[38;5;28;01mif\u001b[39;00m \u001b[38;5;28mself\u001b[39m\u001b[38;5;241m.\u001b[39m_state \u001b[38;5;241m!=\u001b[39m _FINISHED:\n\u001b[1;32m--> 200\u001b[0m     \u001b[38;5;28;01mraise\u001b[39;00m exceptions\u001b[38;5;241m.\u001b[39mInvalidStateError(\u001b[38;5;124m'\u001b[39m\u001b[38;5;124mResult is not ready.\u001b[39m\u001b[38;5;124m'\u001b[39m)\n\u001b[0;32m    201\u001b[0m \u001b[38;5;28mself\u001b[39m\u001b[38;5;241m.\u001b[39m__log_traceback \u001b[38;5;241m=\u001b[39m \u001b[38;5;28;01mFalse\u001b[39;00m\n\u001b[0;32m    202\u001b[0m \u001b[38;5;28;01mif\u001b[39;00m \u001b[38;5;28mself\u001b[39m\u001b[38;5;241m.\u001b[39m_exception \u001b[38;5;129;01mis\u001b[39;00m \u001b[38;5;129;01mnot\u001b[39;00m \u001b[38;5;28;01mNone\u001b[39;00m:\n",
      "\u001b[1;31mInvalidStateError\u001b[0m: Result is not ready."
     ]
    }
   ],
   "source": [
    "import nest_asyncio\n",
    "import asyncio\n",
    "from playwright.async_api import async_playwright\n",
    "from TikTokApi import TikTokApi\n",
    "\n",
    "# Apply nest_asyncio to allow nested event loops\n",
    "nest_asyncio.apply()\n",
    "\n",
    "async def get_tiktok_cookies_and_tokens(search_query):\n",
    "    async with async_playwright() as p:\n",
    "        browser = await p.chromium.launch(headless=False)\n",
    "        context = await browser.new_context()\n",
    "        page = await context.new_page()\n",
    "\n",
    "        # Go to TikTok\n",
    "        await page.goto('https://www.tiktok.com/')\n",
    "\n",
    "        # Perform search\n",
    "        await page.fill('input[name=\"q\"]', search_query)\n",
    "        await page.press('input[name=\"q\"]', 'Enter')\n",
    "        await page.wait_for_timeout(5000)  # Wait for the search results to load\n",
    "\n",
    "        # Get cookies\n",
    "        cookies = await context.cookies()\n",
    "        await browser.close()\n",
    "\n",
    "        # Extract necessary tokens and cookies\n",
    "        ms_token = None\n",
    "        verify_fp = None\n",
    "        for cookie in cookies:\n",
    "            if cookie['name'] == 'msToken':\n",
    "                ms_token = cookie['value']\n",
    "            if cookie['name'] == 's_v_web_id':\n",
    "                verify_fp = cookie['value']\n",
    "\n",
    "        return ms_token, verify_fp\n",
    "\n",
    "def initialize_tiktok_api(ms_token, verify_fp):\n",
    "    return TikTokApi(ms_token=ms_token, custom_verify_fp=verify_fp)\n",
    "\n",
    "def get_tiktok_videos(api, search_query):\n",
    "    results = api.by_search(search_query, count=10)\n",
    "\n",
    "    for video in results:\n",
    "        caption = video.get('desc', 'No caption')\n",
    "        video_url = f\"https://www.tiktok.com/@{video['author']['uniqueId']}/video/{video['id']}\"\n",
    "        print(f\"Caption: {caption}\")\n",
    "        print(f\"URL: {video_url}\")\n",
    "\n",
    "# Function to run the asyncio code\n",
    "def run_async(func, *args):\n",
    "    loop = asyncio.get_event_loop()\n",
    "    if loop.is_running():\n",
    "        return asyncio.ensure_future(func(*args))\n",
    "    else:\n",
    "        return loop.run_until_complete(func(*args))\n",
    "\n",
    "# Example search query\n",
    "search_query = \"hello\"\n",
    "\n",
    "# Run the asynchronous function to get cookies and tokens\n",
    "tokens = run_async(get_tiktok_cookies_and_tokens, search_query)\n",
    "print(tokens)\n",
    "\n",
    "# Use the tokens retrieved earlier\n",
    "ms_token, verify_fp = tokens.result()\n",
    "api = initialize_tiktok_api(ms_token, verify_fp)\n",
    "\n",
    "# Fetch and print videos\n",
    "get_tiktok_videos(api, search_query)\n"
   ]
  }
 ],
 "metadata": {
  "kernelspec": {
   "display_name": "Python 3",
   "language": "python",
   "name": "python3"
  },
  "language_info": {
   "codemirror_mode": {
    "name": "ipython",
    "version": 3
   },
   "file_extension": ".py",
   "mimetype": "text/x-python",
   "name": "python",
   "nbconvert_exporter": "python",
   "pygments_lexer": "ipython3",
   "version": "3.12.3"
  }
 },
 "nbformat": 4,
 "nbformat_minor": 2
}
