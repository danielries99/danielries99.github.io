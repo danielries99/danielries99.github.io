{
 "cells": [
  {
   "cell_type": "code",
   "execution_count": 5,
   "metadata": {},
   "outputs": [],
   "source": [
    "import praw\n",
    "\n",
    "reddit = praw.Reddit(\n",
    "    client_id=\"IgWW04CYOAd_B6VLILR9gg\",\n",
    "    client_secret=\"JYvLBTxTLw0D1xgEeBalT-Gy2ieURg\",\n",
    "    user_agent=\"my_reddit_app by /u/Critical_Raise9841\",\n",
    ")"
   ]
  },
  {
   "cell_type": "code",
   "execution_count": 6,
   "metadata": {},
   "outputs": [
    {
     "name": "stdout",
     "output_type": "stream",
     "text": [
      "True\n"
     ]
    }
   ],
   "source": [
    "print(reddit.read_only)\n",
    "# Output: True"
   ]
  },
  {
   "cell_type": "code",
   "execution_count": 7,
   "metadata": {},
   "outputs": [
    {
     "name": "stdout",
     "output_type": "stream",
     "text": [
      "Some test commands\n",
      "Hello Reddit!\n",
      "test for ayaya no resize\n",
      "test match\n",
      "magicbloom test\n",
      "test\n",
      "Title Title\n",
      "Reddit image hosting JPEG quality test - Single Image post - 2nd repost\n",
      "Reddit image hosting JPEG quality test - Single Image post - 1st repost\n",
      "Reddit image hosting JPEG quality test - Original image submitted as a Single Image post\n"
     ]
    }
   ],
   "source": [
    "# continued from code above\n",
    "\n",
    "for submission in reddit.subreddit(\"test\").hot(limit=10):\n",
    "    print(submission.title)\n",
    "\n",
    "# Output: 10 submissions"
   ]
  },
  {
   "cell_type": "code",
   "execution_count": 11,
   "metadata": {},
   "outputs": [
    {
     "name": "stdout",
     "output_type": "stream",
     "text": [
      "Title: Big pharma in a nutshell\n",
      "Selftext: \n",
      "Title: getting ready for bs pharma\n",
      "Selftext: hello! im an incoming freshie this next acad year and ill be taking bs pharma (ust fop, u will let me in). so what r ur tips for freshies like me? do u have any book recommendation to learn and familiarize myself w chemistry? and aside from gen chem, what other branches of chem should i deal w (or other subject)? hhehehe thank u!  \n",
      "Title: Burnt out from Pharma sales\n",
      "Selftext: I’m so burnt out from the day to day of Pharma sales. Driving 2+ hours of driving just for them to tell you to leave a brochure that they will never read. Being a glorified door dash driver bringing lunch and snacks. What are other lucrative sales careers to pursue that have some sort of gratification day to day? I’ve been in the industry for 4 years however it’s hard to get out when they give you a six figure base. Just looking for some advice.\n",
      "Title: BS PHARMA EXPERIENCE IN UST\n",
      "Selftext: Haluuu! Sa mga nagtake  or nagtatake ng BS PHARMA ngayon sa USTE can you guys share your experience? Huhuhu andami ko kasing nakikita or naririnig na hindi daw maganda dito🥹\n",
      "\n",
      "Ano po goodside and downside pag nag-aral ng BS PHARMA sa UST???😬\n",
      "\n",
      "THANK YOU IN ADVANCE🫶💗\n",
      "Title: assessments in fop (pharma)\n",
      "Selftext: helloo!! i'd like to know how's the grading system in fop.\n",
      "\n",
      "nakaka-ilang long exams or quizzes po kayo in a quarter? may fixed number of quizzes/exams po ba kayo per subject that will be a huge percentage of your grade? and madali lang po ba makabawi if you fail one test? \n",
      "\n",
      "Title: FOP Medtech vs Pharma?\n",
      "Selftext: Hello po! idk what to choose if pharma or MedTech. Ano po yung pros and cons about sa 2 courses na yan? Which is easier and has less load? What subj should I excel in if ever I choose pharma / medtech? which has the higher possibility of me getting in ( alin po mas quota course)?\n",
      "Title: Transitioning from SaaS to Pharma\n",
      "Selftext: I am currently working at one of the top 10 tech companies. I have been here for a year and a half and worked as an SDR and was recently promoted to BDR. My base is 60k and my OTE is 90k. \n",
      "\n",
      "I am 26 years old with an advanced degree & am the #1 performer in my unit. I want to be making a lot more than I am currently. I have a family member who works in Pharma sales and told me about an opportunity to make 115k base with 150k OTE immediately & ~$200k OTE in the second year. At my current company it would take ~4 years to move up and make this salary. \n",
      "\n",
      "I have a few questions: \n",
      "1. Which industry can you make more money in over the course of your career?\n",
      "2. I’m curious the pros and cons of being in tech sales vs. Pharma sales long term. What about work life balance?\n",
      "3. Also, do you think the advantage of making more money in Pharma immediately outweighs the earning potential in tech? \n",
      "4. Lastly, IF I don’t like Pharma sales, would I be able to transition back into tech sales in an AE posistion?\n",
      "Title: Top 3 most stable big pharma company to work for from 2024-2030?\n",
      "Selftext: Which big pharma companies seem most likely to be most stable for the next few years (2024-2030) i.e. least likely to have layoffs due to strong sales and pipeline? And which ones seem least stable and more likely to have layoffs?\n",
      "Title: American pharma\n",
      "Selftext: \n",
      "Title: fuck big pharma \n",
      "Selftext: \n"
     ]
    }
   ],
   "source": [
    "# Example search\n",
    "subreddit = reddit.subreddit('all')\n",
    "for submission in subreddit.search('Pharma', limit=10):\n",
    "    print(f\"Title: {submission.title}\")\n",
    "    print(f\"Selftext: {submission.selftext}\")"
   ]
  }
 ],
 "metadata": {
  "kernelspec": {
   "display_name": "Python 3",
   "language": "python",
   "name": "python3"
  },
  "language_info": {
   "codemirror_mode": {
    "name": "ipython",
    "version": 3
   },
   "file_extension": ".py",
   "mimetype": "text/x-python",
   "name": "python",
   "nbconvert_exporter": "python",
   "pygments_lexer": "ipython3",
   "version": "3.12.3"
  }
 },
 "nbformat": 4,
 "nbformat_minor": 2
}
