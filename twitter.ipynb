{
 "cells": [
  {
   "cell_type": "markdown",
   "metadata": {},
   "source": [
    "## Twitter"
   ]
  },
  {
   "cell_type": "markdown",
   "metadata": {},
   "source": [
    "Overview of packages and their functions: (https://developer.twitter.com/en/portal/products/basic)"
   ]
  },
  {
   "cell_type": "code",
   "execution_count": 15,
   "metadata": {},
   "outputs": [],
   "source": [
    "import tweepy\n",
    "import os\n",
    "import json\n",
    "import requests\n",
    "import json\n",
    "import pandas as pd\n",
    "from requests_oauthlib import OAuth1\n",
    "import webbrowser\n",
    "\n",
    "# credentials\n",
    "bearer_token = 'AAAAAAAAAAAAAAAAAAAAAE%2F%2BtwEAAAAAJIZrrbwnH8jjZgVj2a5s88I1d6k%3DUpn71Gwh7DtcEVWRQPscxcXkaAW0HVbE6HFkgEzfwSEi6VhL8f'\n",
    "api_key = 'iSR6zn0cgPwvUfN70M0CH6Mtu'\n",
    "api_secret_key = 'JQHTVTQtHh4JAZiT9iv2O3myiMpuRxyLNugi73NyG0Vekd4ML4'\n",
    "access_token = '1795018571791101952-CoEdfLM0PUsc7ScW6xXp4A9ALAdSCS'\n",
    "access_token_secret = 'S4MEzMpvty4CRhvFoyLBxKwgYnk2F1QrOY8pddwRhCxyd'\n",
    "client_id = 'ZDJXMGlMc3ppNmd1RTVvWWdWNmk6MTpjaQ'\n",
    "client_secret = 'cQWyj7GuOHLfJY3gtg-WLO82Mvp9o5F5y7pNoUYFyy-w2u0BVk'\n"
   ]
  }
 ],
 "metadata": {
  "kernelspec": {
   "display_name": "Python 3",
   "language": "python",
   "name": "python3"
  },
  "language_info": {
   "codemirror_mode": {
    "name": "ipython",
    "version": 3
   },
   "file_extension": ".py",
   "mimetype": "text/x-python",
   "name": "python",
   "nbconvert_exporter": "python",
   "pygments_lexer": "ipython3",
   "version": "3.12.3"
  }
 },
 "nbformat": 4,
 "nbformat_minor": 2
}
